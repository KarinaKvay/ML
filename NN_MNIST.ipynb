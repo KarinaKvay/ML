{
 "cells": [
  {
   "cell_type": "code",
   "execution_count": 1,
   "id": "e33e0d40-5085-46c8-9ce4-4945482b1001",
   "metadata": {},
   "outputs": [],
   "source": [
    "import numpy as np\n",
    "import pandas as pd\n",
    "import scipy.special\n",
    "import matplotlib.pyplot as plt\n",
    "from tqdm import tqdm\n",
    "from sklearn.model_selection import train_test_split\n",
    "import torch\n",
    "from torch import nn\n",
    "import torch.nn.functional as F\n",
    "import torch.optim as optim\n",
    "from IPython import display\n",
    "from IPython.display import clear_output\n",
    "import random\n",
    "from sklearn.preprocessing import OneHotEncoder\n",
    "from torch.optim.lr_scheduler import ExponentialLR, CosineAnnealingLR"
   ]
  },
  {
   "cell_type": "markdown",
   "id": "5fbc504d-e939-4bf2-a6b3-af4f76dd9f90",
   "metadata": {},
   "source": [
    "# Numbers dataset"
   ]
  },
  {
   "cell_type": "code",
   "execution_count": 2,
   "id": "7c650a4c-a4d0-410d-bddb-46d1b6d89bfd",
   "metadata": {},
   "outputs": [
    {
     "data": {
      "text/html": [
       "<div>\n",
       "<style scoped>\n",
       "    .dataframe tbody tr th:only-of-type {\n",
       "        vertical-align: middle;\n",
       "    }\n",
       "\n",
       "    .dataframe tbody tr th {\n",
       "        vertical-align: top;\n",
       "    }\n",
       "\n",
       "    .dataframe thead th {\n",
       "        text-align: right;\n",
       "    }\n",
       "</style>\n",
       "<table border=\"1\" class=\"dataframe\">\n",
       "  <thead>\n",
       "    <tr style=\"text-align: right;\">\n",
       "      <th></th>\n",
       "      <th>index</th>\n",
       "      <th>label</th>\n",
       "      <th>pixel0</th>\n",
       "      <th>pixel1</th>\n",
       "      <th>pixel2</th>\n",
       "      <th>pixel3</th>\n",
       "      <th>pixel4</th>\n",
       "      <th>pixel5</th>\n",
       "      <th>pixel6</th>\n",
       "      <th>pixel7</th>\n",
       "      <th>...</th>\n",
       "      <th>pixel774</th>\n",
       "      <th>pixel775</th>\n",
       "      <th>pixel776</th>\n",
       "      <th>pixel777</th>\n",
       "      <th>pixel778</th>\n",
       "      <th>pixel779</th>\n",
       "      <th>pixel780</th>\n",
       "      <th>pixel781</th>\n",
       "      <th>pixel782</th>\n",
       "      <th>pixel783</th>\n",
       "    </tr>\n",
       "  </thead>\n",
       "  <tbody>\n",
       "    <tr>\n",
       "      <th>0</th>\n",
       "      <td>34941</td>\n",
       "      <td>6</td>\n",
       "      <td>0</td>\n",
       "      <td>0</td>\n",
       "      <td>0</td>\n",
       "      <td>0</td>\n",
       "      <td>0</td>\n",
       "      <td>0</td>\n",
       "      <td>0</td>\n",
       "      <td>0</td>\n",
       "      <td>...</td>\n",
       "      <td>0</td>\n",
       "      <td>0</td>\n",
       "      <td>0</td>\n",
       "      <td>0</td>\n",
       "      <td>0</td>\n",
       "      <td>0</td>\n",
       "      <td>0</td>\n",
       "      <td>0</td>\n",
       "      <td>0</td>\n",
       "      <td>0</td>\n",
       "    </tr>\n",
       "    <tr>\n",
       "      <th>1</th>\n",
       "      <td>24433</td>\n",
       "      <td>5</td>\n",
       "      <td>0</td>\n",
       "      <td>0</td>\n",
       "      <td>0</td>\n",
       "      <td>0</td>\n",
       "      <td>0</td>\n",
       "      <td>0</td>\n",
       "      <td>0</td>\n",
       "      <td>0</td>\n",
       "      <td>...</td>\n",
       "      <td>0</td>\n",
       "      <td>0</td>\n",
       "      <td>0</td>\n",
       "      <td>0</td>\n",
       "      <td>0</td>\n",
       "      <td>0</td>\n",
       "      <td>0</td>\n",
       "      <td>0</td>\n",
       "      <td>0</td>\n",
       "      <td>0</td>\n",
       "    </tr>\n",
       "    <tr>\n",
       "      <th>2</th>\n",
       "      <td>24432</td>\n",
       "      <td>3</td>\n",
       "      <td>0</td>\n",
       "      <td>0</td>\n",
       "      <td>0</td>\n",
       "      <td>0</td>\n",
       "      <td>0</td>\n",
       "      <td>0</td>\n",
       "      <td>0</td>\n",
       "      <td>0</td>\n",
       "      <td>...</td>\n",
       "      <td>0</td>\n",
       "      <td>0</td>\n",
       "      <td>0</td>\n",
       "      <td>0</td>\n",
       "      <td>0</td>\n",
       "      <td>0</td>\n",
       "      <td>0</td>\n",
       "      <td>0</td>\n",
       "      <td>0</td>\n",
       "      <td>0</td>\n",
       "    </tr>\n",
       "    <tr>\n",
       "      <th>3</th>\n",
       "      <td>8832</td>\n",
       "      <td>4</td>\n",
       "      <td>0</td>\n",
       "      <td>0</td>\n",
       "      <td>0</td>\n",
       "      <td>0</td>\n",
       "      <td>0</td>\n",
       "      <td>0</td>\n",
       "      <td>0</td>\n",
       "      <td>0</td>\n",
       "      <td>...</td>\n",
       "      <td>0</td>\n",
       "      <td>0</td>\n",
       "      <td>0</td>\n",
       "      <td>0</td>\n",
       "      <td>0</td>\n",
       "      <td>0</td>\n",
       "      <td>0</td>\n",
       "      <td>0</td>\n",
       "      <td>0</td>\n",
       "      <td>0</td>\n",
       "    </tr>\n",
       "    <tr>\n",
       "      <th>4</th>\n",
       "      <td>30291</td>\n",
       "      <td>7</td>\n",
       "      <td>0</td>\n",
       "      <td>0</td>\n",
       "      <td>0</td>\n",
       "      <td>0</td>\n",
       "      <td>0</td>\n",
       "      <td>0</td>\n",
       "      <td>0</td>\n",
       "      <td>0</td>\n",
       "      <td>...</td>\n",
       "      <td>0</td>\n",
       "      <td>0</td>\n",
       "      <td>0</td>\n",
       "      <td>0</td>\n",
       "      <td>0</td>\n",
       "      <td>0</td>\n",
       "      <td>0</td>\n",
       "      <td>0</td>\n",
       "      <td>0</td>\n",
       "      <td>0</td>\n",
       "    </tr>\n",
       "  </tbody>\n",
       "</table>\n",
       "<p>5 rows × 786 columns</p>\n",
       "</div>"
      ],
      "text/plain": [
       "   index  label  pixel0  pixel1  pixel2  pixel3  pixel4  pixel5  pixel6  \\\n",
       "0  34941      6       0       0       0       0       0       0       0   \n",
       "1  24433      5       0       0       0       0       0       0       0   \n",
       "2  24432      3       0       0       0       0       0       0       0   \n",
       "3   8832      4       0       0       0       0       0       0       0   \n",
       "4  30291      7       0       0       0       0       0       0       0   \n",
       "\n",
       "   pixel7  ...  pixel774  pixel775  pixel776  pixel777  pixel778  pixel779  \\\n",
       "0       0  ...         0         0         0         0         0         0   \n",
       "1       0  ...         0         0         0         0         0         0   \n",
       "2       0  ...         0         0         0         0         0         0   \n",
       "3       0  ...         0         0         0         0         0         0   \n",
       "4       0  ...         0         0         0         0         0         0   \n",
       "\n",
       "   pixel780  pixel781  pixel782  pixel783  \n",
       "0         0         0         0         0  \n",
       "1         0         0         0         0  \n",
       "2         0         0         0         0  \n",
       "3         0         0         0         0  \n",
       "4         0         0         0         0  \n",
       "\n",
       "[5 rows x 786 columns]"
      ]
     },
     "execution_count": 2,
     "metadata": {},
     "output_type": "execute_result"
    }
   ],
   "source": [
    "df = pd.read_csv('.\\\\data\\\\MNIST_numbers\\\\data.csv')\n",
    "train, test = train_test_split(df, random_state=42, train_size=0.8, shuffle=True)\n",
    "train = train.reset_index()\n",
    "test = test.reset_index()\n",
    "\n",
    "train_x, train_y = train.iloc[:, 2:], train.iloc[:, 1]\n",
    "test_x, test_y = test.iloc[:, 2:], test.iloc[:, 1]\n",
    "\n",
    "train.head(5)"
   ]
  },
  {
   "cell_type": "code",
   "execution_count": 3,
   "id": "b199886c-9a1f-4ccd-99bd-3c1a4ff3f2fa",
   "metadata": {},
   "outputs": [
    {
     "name": "stdout",
     "output_type": "stream",
     "text": [
      "y = 6\n"
     ]
    },
    {
     "data": {
      "text/plain": [
       "<matplotlib.image.AxesImage at 0x15064bd2590>"
      ]
     },
     "execution_count": 3,
     "metadata": {},
     "output_type": "execute_result"
    },
    {
     "data": {
      "image/png": "[encoded data removed]",
      "text/plain": [
       "<Figure size 640x480 with 1 Axes>"
      ]
     },
     "metadata": {},
     "output_type": "display_data"
    }
   ],
   "source": [
    "image_array = np.array(train_x.loc[0]).reshape((28,28))\n",
    "print(f'y = {train_y.loc[0]}')\n",
    "plt.imshow(image_array, cmap = 'Greys')"
   ]
  },
  {
   "cell_type": "code",
   "execution_count": 4,
   "id": "2327d24f-21c6-459c-ad90-fc461f5304be",
   "metadata": {},
   "outputs": [],
   "source": [
    "class NeuralNetwork:\n",
    "  def __init__(self, eta=0.05, niter=1, inputnodes=784, hiddennodes_1=50, hiddennodes_2=50, outputnodes=10):\n",
    "    # количество нейронов в входном слое\n",
    "    self.inodes = inputnodes\n",
    "    # количество нейронов в скрытом слое 1\n",
    "    self.hnodes_1 = hiddennodes_1\n",
    "    # количество нейронов в скрытом слое 2\n",
    "    self.hnodes_2 = hiddennodes_2\n",
    "    # количество нейронов в выходном слое\n",
    "    self.onodes = outputnodes\n",
    "    # весовые коэф. между входом и скрытым слоем\n",
    "    self.w1 = np.random.normal(0.0 , pow(self.hnodes_1,-0.5), (self.hnodes_1, self.inodes))\n",
    "    # весовые коэф. между скрытым и скрытым слоем\n",
    "    self.w2 = np.random.normal(0.0 , pow(self.hnodes_2,-0.5), (self.hnodes_2, self.hnodes_1))\n",
    "    # Весовые коэф. между скрытым слоем и выходом\n",
    "    self.w3 = np.random.normal(0.0 , pow(self.onodes,-0.5), (self.onodes,self.hnodes_2))\n",
    "    # скорость обучения\n",
    "    self.eta = eta\n",
    "    # сигмоида в качестве функции активации\n",
    "    self.activation_function = lambda x: scipy.special.expit(x)\n",
    "    # количество эпох обучения\n",
    "    self.niter = niter\n",
    "    pass\n",
    "\n",
    "  def train(self, X, y):\n",
    "    # преобразуем входые вектора признаков в двумерный массив\n",
    "    X = np.array(X, ndmin=2).T\n",
    "    # преобразуем вектор целевых значений в двумерный массив\n",
    "    y = np.array(y, ndmin=2).T\n",
    "\n",
    "    # Рассчитываем исходящие сигналы для скрытого слоя 1\n",
    "    hidden_outputs_1 = self.activation_function(np.dot(self.w1,X))\n",
    "\n",
    "    # Рассчитываем исходящие сигналы для скрытого слоя 2\n",
    "    hidden_outputs_2 = self.activation_function(np.dot(self.w2,hidden_outputs_1))\n",
    "\n",
    "    # рассчитываем выходные значения\n",
    "    final_outputs = self.activation_function(np.dot(self.w3, hidden_outputs_2))\n",
    "\n",
    "    # считаем ошибку выходного слоя (целевое - выходное)\n",
    "    output_errors = y - final_outputs\n",
    "    # обновляем  весовые коэф. для связей выходного\n",
    "    self.w3 += self.eta * np.dot(output_errors * final_outputs * (1.0 - final_outputs),np.transpose(hidden_outputs_2))\n",
    "      \n",
    "    # ошибка скрытого слоя 2\n",
    "    hidden_errors_2 = np.dot(self.w3.T,output_errors)\n",
    "    # обновляем  весовые коэф. для связей скрытого слоя 2\n",
    "    self.w2 += self.eta * np.dot(hidden_errors_2 * hidden_outputs_2 * (1.0 - hidden_outputs_2),np.transpose(hidden_outputs_1))\n",
    "\n",
    "    # ошибка скрытого слоя 1\n",
    "    hidden_errors_1 = np.dot(self.w2.T,hidden_errors_2)\n",
    "    # обновляем  весовые коэф. для связей скрытого слоя 1\n",
    "    self.w1 += self.eta * np.dot(hidden_errors_1 * hidden_outputs_1 * (1.0 - hidden_outputs_1),np.transpose(X))\n",
    "    pass\n",
    "\n",
    "  def predict(self, inputs_list):\n",
    "    inputs = np.array(inputs_list, ndmin = 2).T\n",
    "    # рассчитываем входящие сигналы для скрытого слоя 1\n",
    "    hidden_outputs_1 = self.activation_function(np.dot(self.w1, inputs))\n",
    "    # рассчитываем входящие сигналы для скрытого слоя 2\n",
    "    hidden_outputs_2 = self.activation_function(np.dot(self.w2, hidden_outputs_1))\n",
    "    # рассчитываем исходящие сигналы для выходного слоя\n",
    "    final_outputs = self.activation_function(np.dot(self.w3, hidden_outputs_2))\n",
    "    return final_outputs"
   ]
  },
  {
   "cell_type": "code",
   "execution_count": 5,
   "id": "f4f932f1-ece3-49cc-a273-fbf077b5e9be",
   "metadata": {},
   "outputs": [
    {
     "name": "stderr",
     "output_type": "stream",
     "text": [
      "100%|███████████████████████████████████████████████████████████████████████████| 33600/33600 [02:06<00:00, 265.17it/s]\n"
     ]
    }
   ],
   "source": [
    "input_nodes = 784\n",
    "hidden_nodes_1 = 200\n",
    "hidden_nodes_2 = 100\n",
    "output_nodes = 10\n",
    "\n",
    "\n",
    "eta = 0.06\n",
    "n_iter = 100\n",
    "\n",
    "n = NeuralNetwork(eta, n_iter, input_nodes, hidden_nodes_1, hidden_nodes_2, output_nodes,)\n",
    "\n",
    "for idx in tqdm(train.index):\n",
    "    X = list(train_x.loc[idx])\n",
    "    y = train_y.loc[idx]\n",
    "    inputs = (np.asfarray(X)/255.0)\n",
    "    targets = np.zeros(output_nodes) + 0.01\n",
    "    targets[y] = 0.99\n",
    "    # shape(784, 10)\n",
    "    n.train(inputs, targets)"
   ]
  },
  {
   "cell_type": "code",
   "execution_count": 6,
   "id": "d3f2bfd9-5b68-4586-920c-5121151d470b",
   "metadata": {},
   "outputs": [
    {
     "name": "stdout",
     "output_type": "stream",
     "text": [
      "predict_y = \n",
      "[[0.02982468]\n",
      " [0.00700193]\n",
      " [0.04911578]\n",
      " [0.0017745 ]\n",
      " [0.01065333]\n",
      " [0.00429068]\n",
      " [0.97040618]\n",
      " [0.01208757]\n",
      " [0.00787249]\n",
      " [0.00652172]]\n",
      "\n",
      "target_y = 6\n"
     ]
    },
    {
     "data": {
      "text/plain": [
       "<matplotlib.image.AxesImage at 0x15064bd3010>"
      ]
     },
     "execution_count": 6,
     "metadata": {},
     "output_type": "execute_result"
    },
    {
     "data": {
      "image/png": "[encoded data removed]",
      "text/plain": [
       "<Figure size 640x480 with 1 Axes>"
      ]
     },
     "metadata": {},
     "output_type": "display_data"
    }
   ],
   "source": [
    "test_num = 5457\n",
    "y = train_y.loc[test_num]\n",
    "X = np.asfarray(list(train_x.loc[test_num]))\n",
    "image_x = X.reshape((28,28))\n",
    "\n",
    "predict_y = n.predict((np.asfarray(X)/255.0))\n",
    "print(f'predict_y = \\n{predict_y}')\n",
    "\n",
    "print(f'\\ntarget_y = {y}')\n",
    "plt.imshow(image_x,cmap = 'Greys',interpolation='None')"
   ]
  },
  {
   "cell_type": "code",
   "execution_count": 7,
   "id": "81959701-ade0-4f32-8ab8-6ec6b9906897",
   "metadata": {},
   "outputs": [
    {
     "name": "stdout",
     "output_type": "stream",
     "text": [
      "Sum of correct predictions: 7908\n",
      "Sum of incorrect predictions: 492\n",
      "Percent of correct predictions: 94%\n"
     ]
    }
   ],
   "source": [
    "scorecard = []\n",
    "for idx in test_x.index:\n",
    "    X = np.asfarray(test_x.loc[idx]/255.0)\n",
    "    target_y = test_y.loc[idx]\n",
    "\n",
    "    outputs = n.predict(X)\n",
    "    pred_y = np.argmax(outputs)\n",
    "    \n",
    "    if (pred_y == target_y):\n",
    "        scorecard.append(1)\n",
    "    else:\n",
    "        scorecard.append(0)\n",
    "\n",
    "print(f'Sum of correct predictions: {sum(scorecard)}')\n",
    "print(f'Sum of incorrect predictions: {len(scorecard) - sum(scorecard)}')\n",
    "print(f'Percent of correct predictions: {int(sum(scorecard)*100/len(scorecard))}%')"
   ]
  },
  {
   "cell_type": "markdown",
   "id": "2e6fd4b6-2cda-4e82-910b-4eec843deb86",
   "metadata": {},
   "source": [
    "# Fashion dataset"
   ]
  },
  {
   "cell_type": "code",
   "execution_count": 2,
   "id": "039e9856-d786-4f0d-b2c6-79f60a24d7a5",
   "metadata": {},
   "outputs": [
    {
     "data": {
      "text/html": [
       "<div>\n",
       "<style scoped>\n",
       "    .dataframe tbody tr th:only-of-type {\n",
       "        vertical-align: middle;\n",
       "    }\n",
       "\n",
       "    .dataframe tbody tr th {\n",
       "        vertical-align: top;\n",
       "    }\n",
       "\n",
       "    .dataframe thead th {\n",
       "        text-align: right;\n",
       "    }\n",
       "</style>\n",
       "<table border=\"1\" class=\"dataframe\">\n",
       "  <thead>\n",
       "    <tr style=\"text-align: right;\">\n",
       "      <th></th>\n",
       "      <th>index</th>\n",
       "      <th>label</th>\n",
       "      <th>pixel1</th>\n",
       "      <th>pixel2</th>\n",
       "      <th>pixel3</th>\n",
       "      <th>pixel4</th>\n",
       "      <th>pixel5</th>\n",
       "      <th>pixel6</th>\n",
       "      <th>pixel7</th>\n",
       "      <th>pixel8</th>\n",
       "      <th>...</th>\n",
       "      <th>pixel775</th>\n",
       "      <th>pixel776</th>\n",
       "      <th>pixel777</th>\n",
       "      <th>pixel778</th>\n",
       "      <th>pixel779</th>\n",
       "      <th>pixel780</th>\n",
       "      <th>pixel781</th>\n",
       "      <th>pixel782</th>\n",
       "      <th>pixel783</th>\n",
       "      <th>pixel784</th>\n",
       "    </tr>\n",
       "  </thead>\n",
       "  <tbody>\n",
       "    <tr>\n",
       "      <th>0</th>\n",
       "      <td>50404</td>\n",
       "      <td>8</td>\n",
       "      <td>0</td>\n",
       "      <td>0</td>\n",
       "      <td>0</td>\n",
       "      <td>0</td>\n",
       "      <td>0</td>\n",
       "      <td>0</td>\n",
       "      <td>0</td>\n",
       "      <td>0</td>\n",
       "      <td>...</td>\n",
       "      <td>152</td>\n",
       "      <td>144</td>\n",
       "      <td>168</td>\n",
       "      <td>53</td>\n",
       "      <td>0</td>\n",
       "      <td>0</td>\n",
       "      <td>0</td>\n",
       "      <td>0</td>\n",
       "      <td>0</td>\n",
       "      <td>0</td>\n",
       "    </tr>\n",
       "    <tr>\n",
       "      <th>1</th>\n",
       "      <td>26810</td>\n",
       "      <td>7</td>\n",
       "      <td>0</td>\n",
       "      <td>0</td>\n",
       "      <td>0</td>\n",
       "      <td>0</td>\n",
       "      <td>0</td>\n",
       "      <td>0</td>\n",
       "      <td>0</td>\n",
       "      <td>0</td>\n",
       "      <td>...</td>\n",
       "      <td>0</td>\n",
       "      <td>0</td>\n",
       "      <td>0</td>\n",
       "      <td>0</td>\n",
       "      <td>0</td>\n",
       "      <td>0</td>\n",
       "      <td>0</td>\n",
       "      <td>0</td>\n",
       "      <td>0</td>\n",
       "      <td>0</td>\n",
       "    </tr>\n",
       "    <tr>\n",
       "      <th>2</th>\n",
       "      <td>19681</td>\n",
       "      <td>5</td>\n",
       "      <td>0</td>\n",
       "      <td>0</td>\n",
       "      <td>0</td>\n",
       "      <td>0</td>\n",
       "      <td>0</td>\n",
       "      <td>0</td>\n",
       "      <td>0</td>\n",
       "      <td>0</td>\n",
       "      <td>...</td>\n",
       "      <td>0</td>\n",
       "      <td>0</td>\n",
       "      <td>0</td>\n",
       "      <td>0</td>\n",
       "      <td>0</td>\n",
       "      <td>0</td>\n",
       "      <td>0</td>\n",
       "      <td>0</td>\n",
       "      <td>0</td>\n",
       "      <td>0</td>\n",
       "    </tr>\n",
       "    <tr>\n",
       "      <th>3</th>\n",
       "      <td>7616</td>\n",
       "      <td>5</td>\n",
       "      <td>0</td>\n",
       "      <td>0</td>\n",
       "      <td>0</td>\n",
       "      <td>0</td>\n",
       "      <td>0</td>\n",
       "      <td>0</td>\n",
       "      <td>0</td>\n",
       "      <td>0</td>\n",
       "      <td>...</td>\n",
       "      <td>0</td>\n",
       "      <td>0</td>\n",
       "      <td>0</td>\n",
       "      <td>0</td>\n",
       "      <td>0</td>\n",
       "      <td>0</td>\n",
       "      <td>0</td>\n",
       "      <td>0</td>\n",
       "      <td>0</td>\n",
       "      <td>0</td>\n",
       "    </tr>\n",
       "    <tr>\n",
       "      <th>4</th>\n",
       "      <td>20363</td>\n",
       "      <td>7</td>\n",
       "      <td>0</td>\n",
       "      <td>0</td>\n",
       "      <td>0</td>\n",
       "      <td>0</td>\n",
       "      <td>0</td>\n",
       "      <td>0</td>\n",
       "      <td>0</td>\n",
       "      <td>0</td>\n",
       "      <td>...</td>\n",
       "      <td>0</td>\n",
       "      <td>0</td>\n",
       "      <td>0</td>\n",
       "      <td>0</td>\n",
       "      <td>0</td>\n",
       "      <td>0</td>\n",
       "      <td>0</td>\n",
       "      <td>0</td>\n",
       "      <td>0</td>\n",
       "      <td>0</td>\n",
       "    </tr>\n",
       "  </tbody>\n",
       "</table>\n",
       "<p>5 rows × 786 columns</p>\n",
       "</div>"
      ],
      "text/plain": [
       "   index  label  pixel1  pixel2  pixel3  pixel4  pixel5  pixel6  pixel7  \\\n",
       "0  50404      8       0       0       0       0       0       0       0   \n",
       "1  26810      7       0       0       0       0       0       0       0   \n",
       "2  19681      5       0       0       0       0       0       0       0   \n",
       "3   7616      5       0       0       0       0       0       0       0   \n",
       "4  20363      7       0       0       0       0       0       0       0   \n",
       "\n",
       "   pixel8  ...  pixel775  pixel776  pixel777  pixel778  pixel779  pixel780  \\\n",
       "0       0  ...       152       144       168        53         0         0   \n",
       "1       0  ...         0         0         0         0         0         0   \n",
       "2       0  ...         0         0         0         0         0         0   \n",
       "3       0  ...         0         0         0         0         0         0   \n",
       "4       0  ...         0         0         0         0         0         0   \n",
       "\n",
       "   pixel781  pixel782  pixel783  pixel784  \n",
       "0         0         0         0         0  \n",
       "1         0         0         0         0  \n",
       "2         0         0         0         0  \n",
       "3         0         0         0         0  \n",
       "4         0         0         0         0  \n",
       "\n",
       "[5 rows x 786 columns]"
      ]
     },
     "execution_count": 2,
     "metadata": {},
     "output_type": "execute_result"
    }
   ],
   "source": [
    "fashion_train = pd.read_csv('.\\\\data\\\\MNIST_fashion\\\\train.csv')\n",
    "fashion_test = pd.read_csv('.\\\\data\\\\MNIST_fashion\\\\test.csv')\n",
    "\n",
    "fashion_train = fashion_train.sample(frac=1).reset_index(drop=True)\n",
    "ftrain, fval = train_test_split(fashion_train, train_size=0.9, random_state=42)\n",
    "ftrain = ftrain.reset_index()\n",
    "fval = fval.reset_index()\n",
    "ftest = fashion_test.reset_index()\n",
    "\n",
    "\n",
    "ftrain_x, ftrain_y = ftrain.iloc[:, 2:], ftrain.iloc[:, 1]\n",
    "ftest_x, ftest_y = ftest.iloc[:, 2:], ftest.iloc[:, 1]\n",
    "fval_x, fval_y = fval.iloc[:, 2:], fval.iloc[:, 1]\n",
    "\n",
    "num_classes = len(set(ftrain_y))\n",
    "\n",
    "ftrain.head(5)"
   ]
  },
  {
   "cell_type": "code",
   "execution_count": 3,
   "id": "d8f6c32e-2111-4d50-b6bb-061608c0ea43",
   "metadata": {},
   "outputs": [
    {
     "name": "stdout",
     "output_type": "stream",
     "text": [
      "y = 8\n"
     ]
    },
    {
     "data": {
      "text/plain": [
       "<matplotlib.image.AxesImage at 0x1387d1a2860>"
      ]
     },
     "execution_count": 3,
     "metadata": {},
     "output_type": "execute_result"
    },
    {
     "data": {
      "image/png": "[encoded data removed]",
      "text/plain": [
       "<Figure size 640x480 with 1 Axes>"
      ]
     },
     "metadata": {},
     "output_type": "display_data"
    }
   ],
   "source": [
    "image_array = np.array(ftrain_x.loc[0]).reshape((28,28))\n",
    "print(f'y = {ftrain_y.loc[0]}')\n",
    "plt.imshow(image_array, cmap = 'Greys')"
   ]
  },
  {
   "cell_type": "code",
   "execution_count": 4,
   "id": "082b7b52-f70a-4542-8a2e-e71eb627a62a",
   "metadata": {},
   "outputs": [
    {
     "data": {
      "text/plain": [
       "array([[0., 0., 0., ..., 0., 1., 0.],\n",
       "       [0., 0., 0., ..., 1., 0., 0.],\n",
       "       [0., 0., 0., ..., 0., 0., 0.],\n",
       "       ...,\n",
       "       [0., 1., 0., ..., 0., 0., 0.],\n",
       "       [0., 0., 0., ..., 1., 0., 0.],\n",
       "       [1., 0., 0., ..., 0., 0., 0.]])"
      ]
     },
     "execution_count": 4,
     "metadata": {},
     "output_type": "execute_result"
    }
   ],
   "source": [
    "encoder_train = OneHotEncoder(categories='auto')\n",
    "ftrain_y = encoder_train.fit_transform(ftrain_y.values.reshape(-1, 1)).toarray()\n",
    "\n",
    "encoder_val = OneHotEncoder(categories='auto')\n",
    "fval_y = encoder_val.fit_transform(fval_y.values.reshape(-1, 1)).toarray()\n",
    "\n",
    "ftrain_y"
   ]
  },
  {
   "cell_type": "code",
   "execution_count": 5,
   "id": "fe28a464-2fd8-46f8-b661-84a1dd6e0fa1",
   "metadata": {},
   "outputs": [
    {
     "data": {
      "text/plain": [
       "(54000, 10)"
      ]
     },
     "execution_count": 5,
     "metadata": {},
     "output_type": "execute_result"
    }
   ],
   "source": [
    "ftrain_y.shape"
   ]
  },
  {
   "cell_type": "code",
   "execution_count": 13,
   "id": "6779a5fe-f2ce-4f5e-bc2d-e9cb6955c3e2",
   "metadata": {},
   "outputs": [],
   "source": [
    "class My_Neural_Network(nn.Module):\n",
    "    def __init__(self, input_dim = 784, hidden_dim = 30, num_classes = 10):\n",
    "        super(My_Neural_Network, self).__init__()\n",
    "        self.in_dim = input_dim\n",
    "        self.h_dim = hidden_dim\n",
    "        self.out_dim = num_classes\n",
    "        self.fc1 = nn.Linear(self.in_dim, self.h_dim)\n",
    "        self.fc2 = nn.Linear(self.h_dim, self.h_dim//2)\n",
    "        self.fc3 = nn.Linear(self.h_dim//2, self.h_dim//4)\n",
    "        self.fc4 = nn.Linear(self.h_dim//4, self.out_dim)\n",
    "        #self.dropout = nn.Dropout()\n",
    "        self.relu = nn.ReLU()\n",
    "        self.softmax = nn.Softmax()\n",
    "\n",
    "    def forward(self, x: torch.Tensor):\n",
    "        fc1 = self.relu(self.fc1(x))\n",
    "        fc2 = self.relu(self.fc2(fc1))\n",
    "        fc3 = self.relu(self.fc3(fc2))\n",
    "        logits = self.softmax(self.fc4(fc3))\n",
    "        return logits\n",
    "\n",
    "    def predict(self, x):\n",
    "        fc1 = self.relu(self.fc1(x))\n",
    "        fc2 = self.relu(self.fc2(fc1))\n",
    "        fc3 = self.relu(self.fc3(fc2))\n",
    "        logits = self.softmax(self.fc4(fc3))\n",
    "        output = torch.argmax(logits, dim=1)\n",
    "        return output"
   ]
  },
  {
   "cell_type": "code",
   "execution_count": 26,
   "id": "f1bb1654-b347-49a3-92d1-d1dab8296cf7",
   "metadata": {},
   "outputs": [
    {
     "data": {
      "image/png": "[encoded data removed]",
      "text/plain": [
       "<Figure size 640x480 with 1 Axes>"
      ]
     },
     "metadata": {},
     "output_type": "display_data"
    },
    {
     "name": "stderr",
     "output_type": "stream",
     "text": [
      "100%|████████████████████████████████████████████████████████████████████████████████| 270/270 [01:12<00:00,  3.72it/s]\n"
     ]
    }
   ],
   "source": [
    "input_dim = 784\n",
    "hidden_dim = 700\n",
    "\n",
    "fmodel = My_Neural_Network(input_dim, hidden_dim, num_classes)\n",
    "\n",
    "learning_rate = 0.001\n",
    "epoches = 10\n",
    "batch_size = 200\n",
    "\n",
    "c = 0\n",
    "count = []\n",
    "losses = []\n",
    "val_losses = []\n",
    "\n",
    "optimizer = optim.Adam(fmodel.parameters(), lr=learning_rate)\n",
    "criterion = nn.CrossEntropyLoss()\n",
    "scheduler = CosineAnnealingLR(optimizer, 1650*epoches)\n",
    "\n",
    "for epoch in range(epoches):\n",
    "    fmodel.train()\n",
    "    for i in tqdm(range(int(len(ftrain_x.values)/batch_size))):\n",
    "        x = ftrain_x.values[i * batch_size : (i+1) * batch_size]\n",
    "        y = ftrain_y[i * batch_size : (i+1) * batch_size]\n",
    "\n",
    "        input = torch.tensor(x)/255.0\n",
    "        target_y = torch.tensor(y)\n",
    "\n",
    "        optimizer.zero_grad()\n",
    "        \n",
    "        # torch.Size([batch, 784])\n",
    "        output = fmodel(input)\n",
    "        # torch.Size([batch, num_classes]) torch.Size([batch, num_classes])\n",
    "        loss = criterion(output, target_y)\n",
    "        loss.backward()\n",
    "        optimizer.step()\n",
    "        scheduler.step()\n",
    "        \n",
    "        losses.append(loss.item())\n",
    "        count.append(c)\n",
    "        c += 1\n",
    "\n",
    "        with torch.no_grad():\n",
    "            indexes = random.sample(list(fval_x.index), batch_size)\n",
    "            x = [fval_x.values[i] for i in sorted(indexes)]\n",
    "            y = [fval_y[i] for i in sorted(indexes)]\n",
    "\n",
    "            input = torch.tensor(x)/255.0\n",
    "            target_y = torch.tensor(y) \n",
    "\n",
    "            # torch.Size([batch, 784])\n",
    "            val_output = fmodel(input)\n",
    "            # torch.Size([batch, num_classes]) torch.Size([batch, num_classes])\n",
    "            val_loss = criterion(val_output, target_y)\n",
    "            val_losses.append(val_loss.item())\n",
    "        \n",
    "        \n",
    "        display.clear_output(wait=True)\n",
    "        plt.plot(count, losses, label='Train_loss') \n",
    "        plt.plot(count, val_losses, label='Val_loss')\n",
    "        plt.legend()\n",
    "        plt.xlabel('Batches')\n",
    "        plt.ylabel('Loss')\n",
    "        plt.show()\n",
    "\n",
    "# save weights\n",
    "torch.save(fmodel.state_dict(), \"fashion_model.pt\")"
   ]
  },
  {
   "cell_type": "code",
   "execution_count": 27,
   "id": "c87865db-8951-4b7d-88dd-0253481092d2",
   "metadata": {},
   "outputs": [
    {
     "name": "stdout",
     "output_type": "stream",
     "text": [
      "Predict_y = tensor([8])\n",
      "Target_y = 8\n"
     ]
    },
    {
     "name": "stderr",
     "output_type": "stream",
     "text": [
      "C:\\Users\\Chiki\\AppData\\Local\\Temp\\ipykernel_4216\\3233327213.py:26: UserWarning: Implicit dimension choice for softmax has been deprecated. Change the call to include dim=X as an argument.\n",
      "  logits = self.softmax(self.fc4(fc3))\n"
     ]
    }
   ],
   "source": [
    "# fmodel = My_Neural_Network(input_dim, hidden_dim, num_classes)\n",
    "fmodel.load_state_dict(torch.load(\"fashion_model.pt\"))\n",
    "index = 1020\n",
    "\n",
    "# shape: ([1, 784])\n",
    "x = torch.tensor(ftest_x.values[index]).unsqueeze(0)/255.0\n",
    "print(f'Predict_y = {fmodel.predict(x)}')\n",
    "print(f'Target_y = {ftest_y.values[index]}')"
   ]
  },
  {
   "cell_type": "code",
   "execution_count": 28,
   "id": "fdb5f1c6-520e-492b-a7b3-3aa0eaa64f36",
   "metadata": {},
   "outputs": [
    {
     "name": "stderr",
     "output_type": "stream",
     "text": [
      "C:\\Users\\Chiki\\AppData\\Local\\Temp\\ipykernel_4216\\3233327213.py:26: UserWarning: Implicit dimension choice for softmax has been deprecated. Change the call to include dim=X as an argument.\n",
      "  logits = self.softmax(self.fc4(fc3))\n"
     ]
    },
    {
     "name": "stdout",
     "output_type": "stream",
     "text": [
      "Sum of correct predictions: 8684\n",
      "Sum of incorrect predictions: 1316\n",
      "Percent of correct predictions: 86%\n"
     ]
    }
   ],
   "source": [
    "fscorecard = []\n",
    "for idx in ftest_x.index:\n",
    "    x = torch.tensor(ftest_x.values[idx]).unsqueeze(0)/255.0\n",
    "    target_y = ftest_y.values[idx]\n",
    "    pred_y = fmodel.predict(x)\n",
    "\n",
    "    if (pred_y == target_y):\n",
    "        fscorecard.append(1)\n",
    "    else:\n",
    "        fscorecard.append(0)\n",
    "\n",
    "print(f'Sum of correct predictions: {sum(fscorecard)}')\n",
    "print(f'Sum of incorrect predictions: {len(fscorecard) - sum(fscorecard)}')\n",
    "print(f'Percent of correct predictions: {int(sum(fscorecard)*100/len(fscorecard))}%')"
   ]
  },
  {
   "cell_type": "code",
   "execution_count": null,
   "id": "7f8629c8-1b1c-4ba0-ae9a-cf67d36fa996",
   "metadata": {},
   "outputs": [],
   "source": []
  },
  {
   "cell_type": "code",
   "execution_count": null,
   "id": "866758cc-73d6-4538-a7af-d86d5ac2ef2d",
   "metadata": {},
   "outputs": [],
   "source": []
  }
 ],
 "metadata": {
  "kernelspec": {
   "display_name": "Python 3 (ipykernel)",
   "language": "python",
   "name": "python3"
  },
  "language_info": {
   "codemirror_mode": {
    "name": "ipython",
    "version": 3
   },
   "file_extension": ".py",
   "mimetype": "text/x-python",
   "name": "python",
   "nbconvert_exporter": "python",
   "pygments_lexer": "ipython3",
   "version": "3.12.7"
  }
 },
 "nbformat": 4,
 "nbformat_minor": 5
}
