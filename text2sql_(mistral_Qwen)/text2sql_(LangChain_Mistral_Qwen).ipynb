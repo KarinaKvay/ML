{
 "cells": [
  {
   "cell_type": "code",
   "execution_count": 1,
   "id": "7a2feb33-6749-4aa2-82ba-c54940e7de94",
   "metadata": {},
   "outputs": [
    {
     "name": "stdout",
     "output_type": "stream",
     "text": [
      "Данные успешно загружены в базу данных SQLite.\n"
     ]
    }
   ],
   "source": [
    "import pandas as pd\n",
    "from sqlalchemy import create_engine\n",
    "\n",
    "def load_data_to_sqlite(file_path, table_name, engine):\n",
    "    '''Function to load data from DSV files and create tables in SQLite database'''\n",
    "    # Load data from DSV file with cp1251 encoding\n",
    "    data = pd.read_csv(file_path, sep='\\t', encoding='cp1251')\n",
    "        \n",
    "    # Write data to SQLite table\n",
    "    data.to_sql(table_name, con=engine, if_exists='replace', index=False)\n",
    "\n",
    "# Create a connection to the SQLite database\n",
    "engine = create_engine('sqlite:///rag_test_123.db')\n",
    "\n",
    "# Paths to DSV files and corresponding table names\n",
    "files_and_tables = {\n",
    "    'bd/curr_rate.dsv': 'curr_rate',\n",
    "    'bd/reg.dsv': 'reg',\n",
    "    'bd/spr.dsv': 'spr'\n",
    "}\n",
    "\n",
    "# Load data from all files and create tables in the database\n",
    "for file_path, table_name in files_and_tables.items():\n",
    "    load_data_to_sqlite(file_path, table_name, engine)\n",
    "\n",
    "print(\"Данные успешно загружены в базу данных SQLite.\")"
   ]
  },
  {
   "cell_type": "code",
   "execution_count": 2,
   "id": "4a7061c1-220f-4c3d-845d-2488b1a9a404",
   "metadata": {},
   "outputs": [],
   "source": [
    "tables_desc = '''\n",
    "Таблицы и их описания:\n",
    "\n",
    "1. curr_rate:\n",
    "- STAT_MONTH: Месяц статистики\n",
    "- STAT_YEAR: Год статистики\n",
    "- USD: Курс доллара\n",
    "- EURO: Курс евро\n",
    "\n",
    "2. data:\n",
    "- STAT_MONTH: Месяц статистики\n",
    "- STAT_YEAR: Год статистики\n",
    "- STAT_DATE: Дата статистики\n",
    "- CD_REG: Код региона\n",
    "- CD_U: Код пользователя\n",
    "- PRCAVG_W_IN: Средняя цена W на входе\n",
    "- PRCAVG_W_OUT: Средняя цена W на выходе\n",
    "- PRCAVG_A_IN: Средняя цена A на входе\n",
    "- PRCAVG_A_OUT: Средняя цена A на выходе\n",
    "- PRCMIN_IN: Минимальная цена на входе\n",
    "- PRCMIN_OUT: Минимальная цена на выходе\n",
    "- PRCMAX_IN: Максимальная цена на входе\n",
    "- PRCMAX_OUT: Максимальная цена на выходе\n",
    "- PRCMED_IN: Медианная цена на входе\n",
    "- PRCMED_OUT: Медианная цена на выходе\n",
    "- VOLSHT_OUT: Объем на выходе (штуки)\n",
    "- VOLRUB_OUT: Объем на выходе (рубли)\n",
    "- PRED_PN_FIRM: Прогноз Pn фирмы\n",
    "- PRED_TN: Прогноз TN\n",
    "- PRED_TN_FIRM: Прогноз TN фирмы\n",
    "\n",
    "3. reg:\n",
    "- CD_REG: Код региона\n",
    "- NM_REG: Название региона\n",
    "- NM_REG_LAT: Название региона (латиница)\n",
    "- LEV: Уровень\n",
    "- PARENT_CD_REG: Код родительского региона\n",
    "- CHANNEL: Канал\n",
    "\n",
    "4. spr:\n",
    "- CD_U: Код пользователя\n",
    "- CD_IAS: Код IAS\n",
    "- NM_FULL: Полное название\n",
    "- NM_T: Краткое название\n",
    "- NM_BR: Название бренда\n",
    "- GROUP_NM_RUS: Группа на русском\n",
    "- NM_C: Название C\n",
    "- NM_F: Название F\n",
    "- RECIPEREQ: Требование рецепта\n",
    "- ATC1: Код ATC1\n",
    "- ATC2: Код ATC2\n",
    "- ATC3: Код ATC3\n",
    "- ATC4: Код ATC4\n",
    "- ATC5: Код ATC5\n",
    "- EPHMRA1: Код EPHMRA1\n",
    "- EPHMRA2: Код EPHMRA2\n",
    "- EPHMRA3: Код EPHMRA3\n",
    "- EPHMRA4: Код EPHMRA4\n",
    "- BAD1: Код BAD1\n",
    "- NM_BAD1: Название BAD1\n",
    "- BAD2: Код BAD2\n",
    "- NM_BAD2: Название BAD2\n",
    "- BAD_A_1: Код BAD_A_1\n",
    "- NM_BAD_A_1: Название BAD_A_1\n",
    "- BAD_A_2: Код BAD_A_2\n",
    "- NM_BAD_A_2: Название BAD_A_2\n",
    "- BAD_A_3: Код BAD_A_3\n",
    "- NM_BAD_A_3: Название BAD_A_3\n",
    "- INN: INN\n",
    "- COUNT_BL: Количество BL\n",
    "- COUNT_IN_BL: Количество в BL\n",
    "- MV: MV\n",
    "- MV_NM_MU: MV NM MU\n",
    "- NM_DOMESTIC: Название на родном языке\n",
    "- NM_DT: Название DT\n",
    "- NM_PACK: Название упаковки\n",
    "\n",
    "'''"
   ]
  },
  {
   "cell_type": "code",
   "execution_count": 3,
   "id": "d0a7e302-654a-4ae0-9a20-a767c1cc87da",
   "metadata": {},
   "outputs": [
    {
     "name": "stdout",
     "output_type": "stream",
     "text": [
      "The token has not been saved to the git credentials helper. Pass `add_to_git_credential=True` in this function directly or `--add-to-git-credential` if using via `huggingface-cli` if you want to set the git credential as well.\n",
      "Token is valid (permission: write).\n",
      "Your token has been saved to C:\\Users\\Chiki\\.cache\\huggingface\\token\n",
      "Login successful\n"
     ]
    }
   ],
   "source": [
    "from langchain_mistralai.chat_models import ChatMistralAI\n",
    "from langchain_core.messages import HumanMessage\n",
    "from huggingface_hub import login\n",
    "\n",
    "# Huggingface access token\n",
    "login(token = 'your_huggingface_token')\n",
    "# MistralAI API\n",
    "MISTRAL_API_KEY = \"your_API_key\"\n",
    "\n",
    "# MistralAI model for embeddings\n",
    "llm = ChatMistralAI(api_key=MISTRAL_API_KEY)"
   ]
  },
  {
   "cell_type": "code",
   "execution_count": 4,
   "id": "c8dece64-3ff3-47a4-9225-4afeadd6034d",
   "metadata": {},
   "outputs": [],
   "source": [
    "from langchain_core.prompts.chat import ChatPromptTemplate\n",
    "\n",
    "template_query = \"\"\"Generate a SQL query to answer this question: {question}\\nDDL statements (use only column names from this schema): {schema}\\nThe following SQL query best answers the question:\"\"\"\n",
    "\n",
    "prompt = ChatPromptTemplate.from_messages(\n",
    "    [\n",
    "        (\"system\", \"Given an input question, convert it to a SQL query. No pre-amble.\"),\n",
    "        (\"human\", template_query),\n",
    "    ]\n",
    ")"
   ]
  },
  {
   "cell_type": "code",
   "execution_count": 5,
   "id": "69eb7427-b03f-4832-9ce9-4091dffdaee7",
   "metadata": {},
   "outputs": [],
   "source": [
    "def get_sql_answer(query, schema):\n",
    "    chain = prompt.pipe(llm)\n",
    "    return chain.invoke({\n",
    "            'schema': schema,\n",
    "            'question': query\n",
    "        }).content"
   ]
  },
  {
   "cell_type": "code",
   "execution_count": 6,
   "id": "42bdfe44-d3fa-42a8-b5d2-465729afc164",
   "metadata": {},
   "outputs": [],
   "source": [
    "from sqlalchemy import text\n",
    "\n",
    "def execute_query(query, engine):\n",
    "    with engine.connect() as connection:\n",
    "        result = connection.execute(text(query))\n",
    "        return result.fetchall()\n",
    "\n",
    "def get_data_from_sql(sql_code, engine):\n",
    "    return execute_query(sql_code, engine)"
   ]
  },
  {
   "cell_type": "code",
   "execution_count": null,
   "id": "086b48c5-486b-4bcc-8d38-45bb7d04eee9",
   "metadata": {},
   "outputs": [],
   "source": [
    "import torch\n",
    "from transformers import AutoTokenizer, AutoModel, AutoModelForCausalLM\n",
    "\n",
    "model_name = 'Qwen/Qwen2-1.5B-Instruct'\n",
    "device = torch.device(\"cuda\")\n",
    "tokenizer = AutoTokenizer.from_pretrained(model_name)\n",
    "model = AutoModel.from_pretrained(model_name).to(device)\n",
    "model_vector = AutoModel.from_pretrained(model_name).to(device)\n",
    "device = model.device\n",
    "print(f'device = {device}')"
   ]
  },
  {
   "cell_type": "code",
   "execution_count": 7,
   "id": "3f49a155-a828-45f2-9978-6358dc423dfe",
   "metadata": {},
   "outputs": [],
   "source": [
    "from datetime import datetime\n",
    "import torch\n",
    "from transformers import AutoTokenizer, AutoModel, AutoModelForCausalLM\n",
    "\n",
    "def vectorize_text(text):\n",
    "    if len(text.strip()) == 0:\n",
    "        return None \n",
    "    inputs = tokenizer(text, return_tensors='pt', truncation=True, padding=True, max_length=512).to(device)\n",
    "    \n",
    "    with torch.no_grad():\n",
    "        outputs = model_vector(**inputs)\n",
    "    return outputs.last_hidden_state.mean(dim=1).cpu().numpy()\n",
    "\n",
    "def generate_answer(context, query):\n",
    "    messages = [\n",
    "    {\"role\": \"system\", \"content\": f\"Ты помощник директора компании Эвалар, сегодня дата {datetime.date}, тебе требуется ответить на вопрос пользователя имея данные из базы данных: {context}\"},\n",
    "    {\"role\": \"user\", \"content\": query}\n",
    "]\n",
    "    text = tokenizer.apply_chat_template(\n",
    "        messages,\n",
    "        tokenize=False,\n",
    "        add_generation_prompt=True\n",
    "    )\n",
    "    model_inputs = tokenizer([text], return_tensors=\"pt\") # .to(device)\n",
    "    attention_mask = model_inputs[\"attention_mask\"] # .to(device)\n",
    "    generated_ids = model.generate(\n",
    "        model_inputs.input_ids,\n",
    "        max_new_tokens=512,\n",
    "        attention_mask=attention_mask,\n",
    "    )\n",
    "    generated_ids = [\n",
    "        output_ids[len(input_ids):] for input_ids, output_ids in zip(model_inputs.input_ids, generated_ids)\n",
    "    ]\n",
    "    \n",
    "    return tokenizer.batch_decode(generated_ids, skip_special_tokens=True)[0]"
   ]
  },
  {
   "cell_type": "code",
   "execution_count": 8,
   "id": "c57c5d28-fa98-4ae8-a12a-6d32cc917e93",
   "metadata": {},
   "outputs": [],
   "source": [
    "def get_answer(query, logging=False):\n",
    "    sql_code=get_sql_answer(query, tables_desc).replace('\\\\', '') # почему-то mistralai добавляет \\\\ в некоторых местах\n",
    "    \n",
    "    print(f'Generated SQL code: \\n{sql_code}', end='\\n\\n')\n",
    "    \n",
    "    sql_context = get_data_from_sql(sql_code=sql_code, engine=engine)\n",
    "    context = f'SQL Code: {sql_code}, SQL Output: '\n",
    "    for i in sql_context:\n",
    "        context += f'{i} '\n",
    "        \n",
    "    if logging:\n",
    "        print(f'SQL context: \\n{sql_context}', end='\\n\\n')\n",
    "        \n",
    "    answer = generate_answer(context, query)\n",
    "    return answer"
   ]
  },
  {
   "cell_type": "code",
   "execution_count": 9,
   "id": "c2af5722-32f0-4569-8ef6-4a3efc6f927a",
   "metadata": {},
   "outputs": [
    {
     "name": "stdout",
     "output_type": "stream",
     "text": [
      "Generated SQL code: \n",
      "SELECT STAT_YEAR, STAT_MONTH, MAX(USD) AS MaxDollarRate\n",
      "FROM curr_rate\n",
      "GROUP BY STAT_YEAR, STAT_MONTH\n",
      "ORDER BY MaxDollarRate DESC\n",
      "LIMIT 1;\n",
      "\n",
      "SQL context: \n",
      "[(2022, 3, 104.080968)]\n",
      "\n"
     ]
    }
   ],
   "source": [
    "query = \"В какое время был самый большой курс доллара\"\n",
    "get_answer(query, True)"
   ]
  }
 ],
 "metadata": {
  "kernelspec": {
   "display_name": "Python 3 (ipykernel)",
   "language": "python",
   "name": "python3"
  },
  "language_info": {
   "codemirror_mode": {
    "name": "ipython",
    "version": 3
   },
   "file_extension": ".py",
   "mimetype": "text/x-python",
   "name": "python",
   "nbconvert_exporter": "python",
   "pygments_lexer": "ipython3",
   "version": "3.12.7"
  }
 },
 "nbformat": 4,
 "nbformat_minor": 5
}
